{
  "cells": [
    {
      "cell_type": "markdown",
      "source": [
        "# <font color='purple'>**NLP Project**</font>\n",
        "\n",
        "<div class=\"alert alert-block alert-warning\">\n",
        "<b>\n",
        "Amirkabir University of Technology<br>\n",
        "Fall 2023<br>\n",
        "Course: Machine Learning<br>\n",
        "Instructor: Dr. Seyedin<br>\n",
        "<b><font color='cyan'>Author:</font></b><br>\n",
        "<b><font color='cyan'>Name: Reyhaneh Farahmand - Zahra Latifi<br />\n",
        "Student Number: 9823068 - 9923069</div>"
      ],
      "metadata": {
        "id": "Hb3IdopkKVU5"
      },
      "id": "Hb3IdopkKVU5"
    },
    {
      "cell_type": "markdown",
      "source": [
        "# <font color='purple'>**Importing Required Packages**</font>"
      ],
      "metadata": {
        "id": "63XV9D9-K89G"
      },
      "id": "63XV9D9-K89G"
    },
    {
      "cell_type": "code",
      "execution_count": 57,
      "id": "17bc3489",
      "metadata": {
        "colab": {
          "base_uri": "https://localhost:8080/"
        },
        "id": "17bc3489",
        "outputId": "da3720d9-b12a-45f6-c164-b84c7a895d1f"
      },
      "outputs": [
        {
          "output_type": "stream",
          "name": "stdout",
          "text": [
            "Requirement already satisfied: contractions in /usr/local/lib/python3.10/dist-packages (0.1.73)\n",
            "Requirement already satisfied: textsearch>=0.0.21 in /usr/local/lib/python3.10/dist-packages (from contractions) (0.0.24)\n",
            "Requirement already satisfied: anyascii in /usr/local/lib/python3.10/dist-packages (from textsearch>=0.0.21->contractions) (0.3.2)\n",
            "Requirement already satisfied: pyahocorasick in /usr/local/lib/python3.10/dist-packages (from textsearch>=0.0.21->contractions) (2.0.0)\n"
          ]
        }
      ],
      "source": [
        "# Required installations\n",
        "!pip install contractions"
      ]
    },
    {
      "cell_type": "code",
      "execution_count": 58,
      "id": "1aabcc48",
      "metadata": {
        "colab": {
          "base_uri": "https://localhost:8080/"
        },
        "id": "1aabcc48",
        "outputId": "e62a18d8-02f0-45e2-8c4b-f6efff036f24"
      },
      "outputs": [
        {
          "output_type": "stream",
          "name": "stderr",
          "text": [
            "[nltk_data] Downloading package punkt to /root/nltk_data...\n",
            "[nltk_data]   Package punkt is already up-to-date!\n",
            "[nltk_data] Downloading package stopwords to /root/nltk_data...\n",
            "[nltk_data]   Package stopwords is already up-to-date!\n"
          ]
        }
      ],
      "source": [
        "# Import required libraries\n",
        "import re\n",
        "import nltk\n",
        "import string\n",
        "import random\n",
        "import numpy as np\n",
        "import contractions\n",
        "import pandas as pd\n",
        "nltk.download('punkt')\n",
        "nltk.download(\"stopwords\")\n",
        "from sklearn.svm import SVC\n",
        "import matplotlib.pyplot as plt\n",
        "from nltk.corpus import stopwords\n",
        "from nltk.stem import PorterStemmer\n",
        "from sklearn.naive_bayes import MultinomialNB\n",
        "from sklearn.model_selection import GridSearchCV\n",
        "from sklearn.linear_model import LogisticRegression\n",
        "from sklearn.model_selection import train_test_split\n",
        "from sklearn.metrics import accuracy_score, confusion_matrix\n",
        "from sklearn.feature_extraction.text import CountVectorizer, TfidfVectorizer"
      ]
    },
    {
      "cell_type": "markdown",
      "source": [
        "# <font color='purple'>**Loading the dataset**</font>"
      ],
      "metadata": {
        "id": "aF4Unj0CLChM"
      },
      "id": "aF4Unj0CLChM"
    },
    {
      "cell_type": "code",
      "execution_count": 59,
      "id": "76e7ed71",
      "metadata": {
        "colab": {
          "base_uri": "https://localhost:8080/",
          "height": 293
        },
        "id": "76e7ed71",
        "outputId": "9f688a79-ddaa-468f-a9df-3f56783faa46"
      },
      "outputs": [
        {
          "output_type": "stream",
          "name": "stdout",
          "text": [
            "The number of samples in each class:\n",
            "2    866\n",
            "1    661\n",
            "0    473\n",
            "Name: label, dtype: int64\n"
          ]
        },
        {
          "output_type": "execute_result",
          "data": {
            "text/plain": [
              "                        Date        Username  \\\n",
              "0  2022-12-11 16:37:38+00:00         buddumz   \n",
              "1  2022-12-11 15:42:47+00:00  JustinArnett22   \n",
              "2  2022-12-11 14:48:37+00:00         tsr0009   \n",
              "3  2022-12-11 14:42:45+00:00    fricker_eric   \n",
              "4  2022-12-11 14:22:49+00:00       jgmiddlet   \n",
              "\n",
              "                                       Tweet Content  label  \n",
              "0  @data168 I think it will take tesla another fu...      0  \n",
              "1  @artofrune @Icaryx69 @gabbie_tesla @elonmusk B...      2  \n",
              "2  @elonmusk starting to think you should resign ...      1  \n",
              "3  @averygrrl Not that it matters but my opinion ...      2  \n",
              "4  @MattWallace888 I had a much higher opinion of...      2  "
            ],
            "text/html": [
              "\n",
              "  <div id=\"df-123eea1d-2891-481c-8855-7b4d84674339\" class=\"colab-df-container\">\n",
              "    <div>\n",
              "<style scoped>\n",
              "    .dataframe tbody tr th:only-of-type {\n",
              "        vertical-align: middle;\n",
              "    }\n",
              "\n",
              "    .dataframe tbody tr th {\n",
              "        vertical-align: top;\n",
              "    }\n",
              "\n",
              "    .dataframe thead th {\n",
              "        text-align: right;\n",
              "    }\n",
              "</style>\n",
              "<table border=\"1\" class=\"dataframe\">\n",
              "  <thead>\n",
              "    <tr style=\"text-align: right;\">\n",
              "      <th></th>\n",
              "      <th>Date</th>\n",
              "      <th>Username</th>\n",
              "      <th>Tweet Content</th>\n",
              "      <th>label</th>\n",
              "    </tr>\n",
              "  </thead>\n",
              "  <tbody>\n",
              "    <tr>\n",
              "      <th>0</th>\n",
              "      <td>2022-12-11 16:37:38+00:00</td>\n",
              "      <td>buddumz</td>\n",
              "      <td>@data168 I think it will take tesla another fu...</td>\n",
              "      <td>0</td>\n",
              "    </tr>\n",
              "    <tr>\n",
              "      <th>1</th>\n",
              "      <td>2022-12-11 15:42:47+00:00</td>\n",
              "      <td>JustinArnett22</td>\n",
              "      <td>@artofrune @Icaryx69 @gabbie_tesla @elonmusk B...</td>\n",
              "      <td>2</td>\n",
              "    </tr>\n",
              "    <tr>\n",
              "      <th>2</th>\n",
              "      <td>2022-12-11 14:48:37+00:00</td>\n",
              "      <td>tsr0009</td>\n",
              "      <td>@elonmusk starting to think you should resign ...</td>\n",
              "      <td>1</td>\n",
              "    </tr>\n",
              "    <tr>\n",
              "      <th>3</th>\n",
              "      <td>2022-12-11 14:42:45+00:00</td>\n",
              "      <td>fricker_eric</td>\n",
              "      <td>@averygrrl Not that it matters but my opinion ...</td>\n",
              "      <td>2</td>\n",
              "    </tr>\n",
              "    <tr>\n",
              "      <th>4</th>\n",
              "      <td>2022-12-11 14:22:49+00:00</td>\n",
              "      <td>jgmiddlet</td>\n",
              "      <td>@MattWallace888 I had a much higher opinion of...</td>\n",
              "      <td>2</td>\n",
              "    </tr>\n",
              "  </tbody>\n",
              "</table>\n",
              "</div>\n",
              "    <div class=\"colab-df-buttons\">\n",
              "\n",
              "  <div class=\"colab-df-container\">\n",
              "    <button class=\"colab-df-convert\" onclick=\"convertToInteractive('df-123eea1d-2891-481c-8855-7b4d84674339')\"\n",
              "            title=\"Convert this dataframe to an interactive table.\"\n",
              "            style=\"display:none;\">\n",
              "\n",
              "  <svg xmlns=\"http://www.w3.org/2000/svg\" height=\"24px\" viewBox=\"0 -960 960 960\">\n",
              "    <path d=\"M120-120v-720h720v720H120Zm60-500h600v-160H180v160Zm220 220h160v-160H400v160Zm0 220h160v-160H400v160ZM180-400h160v-160H180v160Zm440 0h160v-160H620v160ZM180-180h160v-160H180v160Zm440 0h160v-160H620v160Z\"/>\n",
              "  </svg>\n",
              "    </button>\n",
              "\n",
              "  <style>\n",
              "    .colab-df-container {\n",
              "      display:flex;\n",
              "      gap: 12px;\n",
              "    }\n",
              "\n",
              "    .colab-df-convert {\n",
              "      background-color: #E8F0FE;\n",
              "      border: none;\n",
              "      border-radius: 50%;\n",
              "      cursor: pointer;\n",
              "      display: none;\n",
              "      fill: #1967D2;\n",
              "      height: 32px;\n",
              "      padding: 0 0 0 0;\n",
              "      width: 32px;\n",
              "    }\n",
              "\n",
              "    .colab-df-convert:hover {\n",
              "      background-color: #E2EBFA;\n",
              "      box-shadow: 0px 1px 2px rgba(60, 64, 67, 0.3), 0px 1px 3px 1px rgba(60, 64, 67, 0.15);\n",
              "      fill: #174EA6;\n",
              "    }\n",
              "\n",
              "    .colab-df-buttons div {\n",
              "      margin-bottom: 4px;\n",
              "    }\n",
              "\n",
              "    [theme=dark] .colab-df-convert {\n",
              "      background-color: #3B4455;\n",
              "      fill: #D2E3FC;\n",
              "    }\n",
              "\n",
              "    [theme=dark] .colab-df-convert:hover {\n",
              "      background-color: #434B5C;\n",
              "      box-shadow: 0px 1px 3px 1px rgba(0, 0, 0, 0.15);\n",
              "      filter: drop-shadow(0px 1px 2px rgba(0, 0, 0, 0.3));\n",
              "      fill: #FFFFFF;\n",
              "    }\n",
              "  </style>\n",
              "\n",
              "    <script>\n",
              "      const buttonEl =\n",
              "        document.querySelector('#df-123eea1d-2891-481c-8855-7b4d84674339 button.colab-df-convert');\n",
              "      buttonEl.style.display =\n",
              "        google.colab.kernel.accessAllowed ? 'block' : 'none';\n",
              "\n",
              "      async function convertToInteractive(key) {\n",
              "        const element = document.querySelector('#df-123eea1d-2891-481c-8855-7b4d84674339');\n",
              "        const dataTable =\n",
              "          await google.colab.kernel.invokeFunction('convertToInteractive',\n",
              "                                                    [key], {});\n",
              "        if (!dataTable) return;\n",
              "\n",
              "        const docLinkHtml = 'Like what you see? Visit the ' +\n",
              "          '<a target=\"_blank\" href=https://colab.research.google.com/notebooks/data_table.ipynb>data table notebook</a>'\n",
              "          + ' to learn more about interactive tables.';\n",
              "        element.innerHTML = '';\n",
              "        dataTable['output_type'] = 'display_data';\n",
              "        await google.colab.output.renderOutput(dataTable, element);\n",
              "        const docLink = document.createElement('div');\n",
              "        docLink.innerHTML = docLinkHtml;\n",
              "        element.appendChild(docLink);\n",
              "      }\n",
              "    </script>\n",
              "  </div>\n",
              "\n",
              "\n",
              "<div id=\"df-ebf93d68-cd19-4179-8431-9c955cfaa74f\">\n",
              "  <button class=\"colab-df-quickchart\" onclick=\"quickchart('df-ebf93d68-cd19-4179-8431-9c955cfaa74f')\"\n",
              "            title=\"Suggest charts\"\n",
              "            style=\"display:none;\">\n",
              "\n",
              "<svg xmlns=\"http://www.w3.org/2000/svg\" height=\"24px\"viewBox=\"0 0 24 24\"\n",
              "     width=\"24px\">\n",
              "    <g>\n",
              "        <path d=\"M19 3H5c-1.1 0-2 .9-2 2v14c0 1.1.9 2 2 2h14c1.1 0 2-.9 2-2V5c0-1.1-.9-2-2-2zM9 17H7v-7h2v7zm4 0h-2V7h2v10zm4 0h-2v-4h2v4z\"/>\n",
              "    </g>\n",
              "</svg>\n",
              "  </button>\n",
              "\n",
              "<style>\n",
              "  .colab-df-quickchart {\n",
              "      --bg-color: #E8F0FE;\n",
              "      --fill-color: #1967D2;\n",
              "      --hover-bg-color: #E2EBFA;\n",
              "      --hover-fill-color: #174EA6;\n",
              "      --disabled-fill-color: #AAA;\n",
              "      --disabled-bg-color: #DDD;\n",
              "  }\n",
              "\n",
              "  [theme=dark] .colab-df-quickchart {\n",
              "      --bg-color: #3B4455;\n",
              "      --fill-color: #D2E3FC;\n",
              "      --hover-bg-color: #434B5C;\n",
              "      --hover-fill-color: #FFFFFF;\n",
              "      --disabled-bg-color: #3B4455;\n",
              "      --disabled-fill-color: #666;\n",
              "  }\n",
              "\n",
              "  .colab-df-quickchart {\n",
              "    background-color: var(--bg-color);\n",
              "    border: none;\n",
              "    border-radius: 50%;\n",
              "    cursor: pointer;\n",
              "    display: none;\n",
              "    fill: var(--fill-color);\n",
              "    height: 32px;\n",
              "    padding: 0;\n",
              "    width: 32px;\n",
              "  }\n",
              "\n",
              "  .colab-df-quickchart:hover {\n",
              "    background-color: var(--hover-bg-color);\n",
              "    box-shadow: 0 1px 2px rgba(60, 64, 67, 0.3), 0 1px 3px 1px rgba(60, 64, 67, 0.15);\n",
              "    fill: var(--button-hover-fill-color);\n",
              "  }\n",
              "\n",
              "  .colab-df-quickchart-complete:disabled,\n",
              "  .colab-df-quickchart-complete:disabled:hover {\n",
              "    background-color: var(--disabled-bg-color);\n",
              "    fill: var(--disabled-fill-color);\n",
              "    box-shadow: none;\n",
              "  }\n",
              "\n",
              "  .colab-df-spinner {\n",
              "    border: 2px solid var(--fill-color);\n",
              "    border-color: transparent;\n",
              "    border-bottom-color: var(--fill-color);\n",
              "    animation:\n",
              "      spin 1s steps(1) infinite;\n",
              "  }\n",
              "\n",
              "  @keyframes spin {\n",
              "    0% {\n",
              "      border-color: transparent;\n",
              "      border-bottom-color: var(--fill-color);\n",
              "      border-left-color: var(--fill-color);\n",
              "    }\n",
              "    20% {\n",
              "      border-color: transparent;\n",
              "      border-left-color: var(--fill-color);\n",
              "      border-top-color: var(--fill-color);\n",
              "    }\n",
              "    30% {\n",
              "      border-color: transparent;\n",
              "      border-left-color: var(--fill-color);\n",
              "      border-top-color: var(--fill-color);\n",
              "      border-right-color: var(--fill-color);\n",
              "    }\n",
              "    40% {\n",
              "      border-color: transparent;\n",
              "      border-right-color: var(--fill-color);\n",
              "      border-top-color: var(--fill-color);\n",
              "    }\n",
              "    60% {\n",
              "      border-color: transparent;\n",
              "      border-right-color: var(--fill-color);\n",
              "    }\n",
              "    80% {\n",
              "      border-color: transparent;\n",
              "      border-right-color: var(--fill-color);\n",
              "      border-bottom-color: var(--fill-color);\n",
              "    }\n",
              "    90% {\n",
              "      border-color: transparent;\n",
              "      border-bottom-color: var(--fill-color);\n",
              "    }\n",
              "  }\n",
              "</style>\n",
              "\n",
              "  <script>\n",
              "    async function quickchart(key) {\n",
              "      const quickchartButtonEl =\n",
              "        document.querySelector('#' + key + ' button');\n",
              "      quickchartButtonEl.disabled = true;  // To prevent multiple clicks.\n",
              "      quickchartButtonEl.classList.add('colab-df-spinner');\n",
              "      try {\n",
              "        const charts = await google.colab.kernel.invokeFunction(\n",
              "            'suggestCharts', [key], {});\n",
              "      } catch (error) {\n",
              "        console.error('Error during call to suggestCharts:', error);\n",
              "      }\n",
              "      quickchartButtonEl.classList.remove('colab-df-spinner');\n",
              "      quickchartButtonEl.classList.add('colab-df-quickchart-complete');\n",
              "    }\n",
              "    (() => {\n",
              "      let quickchartButtonEl =\n",
              "        document.querySelector('#df-ebf93d68-cd19-4179-8431-9c955cfaa74f button');\n",
              "      quickchartButtonEl.style.display =\n",
              "        google.colab.kernel.accessAllowed ? 'block' : 'none';\n",
              "    })();\n",
              "  </script>\n",
              "</div>\n",
              "    </div>\n",
              "  </div>\n"
            ]
          },
          "metadata": {},
          "execution_count": 59
        }
      ],
      "source": [
        "# Load the dataset\n",
        "data = pd.read_csv('/content/Dataset.csv')\n",
        "\n",
        "# Count the number of samples in each class\n",
        "class_counts = data['label'].value_counts()\n",
        "# Print the class counts\n",
        "print(f\"The number of samples in each class:\\n{class_counts}\")\n",
        "\n",
        "# Show first 5 rows of dataset\n",
        "data.head()"
      ]
    },
    {
      "cell_type": "markdown",
      "source": [
        "# <font color='purple'>**Preprocessing Data**</font>\n",
        "\n"
      ],
      "metadata": {
        "id": "b6UFiLmgImfj"
      },
      "id": "b6UFiLmgImfj"
    },
    {
      "cell_type": "code",
      "execution_count": 60,
      "id": "d2765307",
      "metadata": {
        "id": "d2765307"
      },
      "outputs": [],
      "source": [
        "# A function to clean text\n",
        "def clean_text(text):\n",
        "\n",
        "    # Lowercasing the data\n",
        "    text = text.lower()\n",
        "\n",
        "    # Remove @mentions\n",
        "    text = re.sub(r'@[A-Za-z0-9_]+', '', text)\n",
        "\n",
        "    # Remove extra spaces\n",
        "    text = re.sub(r'\\s+', ' ', text)\n",
        "\n",
        "    # Remove punctuation\n",
        "    text = text.translate(str.maketrans('', '', string.punctuation))\n",
        "\n",
        "    # Remove numbers\n",
        "    text = re.sub(r'\\d+', '', text)\n",
        "\n",
        "    # Replace repetitions of punctuation\n",
        "    text = re.sub(r'([!?.]){2,}', r'\\1', text)\n",
        "\n",
        "#     # Remove emojis (Our dataset doesn't have any emojis,\n",
        "                                            # so it doesn't need this command)\n",
        "#     text = demoji.replace(text, '')\n",
        "\n",
        "    # Remove emoticons\n",
        "    emoticons = r'[:;=][oO\\-]?[D\\)\\]\\(\\]/\\\\OpP]'\n",
        "    text = re.sub(emoticons, '', text)\n",
        "\n",
        "    # Expand contractions (example: \"I'll --> I will\")\n",
        "    text = contractions.fix(text)\n",
        "\n",
        "    return text"
      ]
    },
    {
      "cell_type": "code",
      "execution_count": 61,
      "id": "a905d383",
      "metadata": {
        "id": "a905d383"
      },
      "outputs": [],
      "source": [
        "# Data preprocessing\n",
        "\n",
        "# Check for missing data (NaN)\n",
        "data.dropna(subset=['Tweet Content', 'label'], inplace=True)\n",
        "\n",
        "# Delete duplicate rows\n",
        "data.drop_duplicates(subset=['Tweet Content'], inplace=True)\n",
        "\n",
        "# Apply cleaning function which defined before\n",
        "data['Tweet Content'] = data['Tweet Content'].apply(clean_text)\n",
        "\n",
        "# Tokenization of datasets\n",
        "data['Tweet Content'] = data['Tweet Content'].apply(nltk.word_tokenize)\n",
        "\n",
        "# Stopword\n",
        "stop_words = set(stopwords.words('english'))\n",
        "data['Tweet Content'] = data['Tweet Content'].apply(lambda x: [word for word in x if word.lower() not in stop_words])\n",
        "\n",
        "# Stemming\n",
        "stemmer = PorterStemmer()\n",
        "data['Tweet Content'] = data['Tweet Content'].apply(lambda x: [stemmer.stem(word) for word in x])\n",
        "\n",
        "# Join words together again\n",
        "data['Tweet Content'] = data['Tweet Content'].apply(lambda x: ' '.join(x))"
      ]
    },
    {
      "cell_type": "markdown",
      "source": [
        "# <font color='purple'>**Feature Extraction (TF-IDF)**</font>\n"
      ],
      "metadata": {
        "id": "ocmvlPLhLuD5"
      },
      "id": "ocmvlPLhLuD5"
    },
    {
      "cell_type": "code",
      "execution_count": 62,
      "id": "806f6151",
      "metadata": {
        "id": "806f6151"
      },
      "outputs": [],
      "source": [
        "# TF-IDF method\n",
        "tfidf_vectorizer = TfidfVectorizer()\n",
        "tfidf_features = tfidf_vectorizer.fit_transform(data['Tweet Content'])"
      ]
    },
    {
      "cell_type": "markdown",
      "source": [
        "# <font color='purple'>**Fine-tuning & Evaluation with TF-IDF method**</font>\n"
      ],
      "metadata": {
        "id": "aC8J6uBvL-ER"
      },
      "id": "aC8J6uBvL-ER"
    },
    {
      "cell_type": "code",
      "execution_count": 63,
      "id": "c05c79db",
      "metadata": {
        "id": "c05c79db"
      },
      "outputs": [],
      "source": [
        "# Split data into train and test sets\n",
        "X_train, X_test, y_train, y_test = train_test_split(tfidf_features, data['label'], test_size=0.2, random_state = random.seed(random.randint(1, 100)))"
      ]
    },
    {
      "cell_type": "code",
      "execution_count": 64,
      "id": "1b2b65ed",
      "metadata": {
        "colab": {
          "base_uri": "https://localhost:8080/",
          "height": 631
        },
        "id": "1b2b65ed",
        "outputId": "f3a2ceca-dd18-44e8-d1df-5d640bf5edd1"
      },
      "outputs": [
        {
          "output_type": "stream",
          "name": "stdout",
          "text": [
            "Best parameters:  {'C': 10, 'gamma': 0.1}\n",
            "TF-IDF test accuracy (Non-Linear SVM): 0.5365239294710328\n",
            "TF-IDF train accuracy (Non-Linear SVM): 0.9836065573770492\n",
            "\n",
            "SVM Confusion Matrix:\n",
            "[[ 41  22  45]\n",
            " [ 16  65  46]\n",
            " [ 20  35 107]]\n",
            "\n",
            "\n"
          ]
        },
        {
          "output_type": "display_data",
          "data": {
            "text/plain": [
              "<Figure size 480x480 with 1 Axes>"
            ],
            "image/png": "[encoded data removed]"
          },
          "metadata": {}
        }
      ],
      "source": [
        "# Non-Linear SVM\n",
        "\n",
        "# Define the hyperparameter grid\n",
        "param_grid = {'C': [0.1, 1, 10], 'gamma': [0.001, 0.01, 0.1]}\n",
        "# Create the SVM model\n",
        "svm_model = SVC(kernel='rbf')\n",
        "# Create the GridSearchCV\n",
        "grid_search = GridSearchCV(estimator=svm_model, param_grid=param_grid, scoring='accuracy', cv=5)\n",
        "# Fit the grid search on the training data\n",
        "grid_search.fit(X_train, y_train)\n",
        "\n",
        "# Print the best parameters\n",
        "print(\"Best parameters: \", grid_search.best_params_)\n",
        "\n",
        "# Use the best model to make predictions on the test data\n",
        "svm_preds = grid_search.best_estimator_.predict(X_test)\n",
        "\n",
        "# Evaluate the performance of the classifier on the test set\n",
        "svm_accuracy = accuracy_score(y_test, svm_preds)\n",
        "accuracy_train = grid_search.score(X_train, y_train)\n",
        "print('TF-IDF test accuracy (Non-Linear SVM):', svm_accuracy)\n",
        "print('TF-IDF train accuracy (Non-Linear SVM):', accuracy_train)\n",
        "\n",
        "# Compute & plot Confusion Matrix for each model\n",
        "svm_cm = confusion_matrix(y_test, svm_preds)\n",
        "print(\"\\nSVM Confusion Matrix:\")\n",
        "print(svm_cm)\n",
        "print(\"\\n\")\n",
        "plt.matshow(svm_cm)\n",
        "plt.ylabel('True label')\n",
        "plt.xlabel('Predicted label')\n",
        "plt.show()"
      ]
    },
    {
      "cell_type": "code",
      "execution_count": 65,
      "id": "db506121",
      "metadata": {
        "colab": {
          "base_uri": "https://localhost:8080/",
          "height": 631
        },
        "id": "db506121",
        "outputId": "2eec6ad3-29cf-4a1e-90f7-37015f008a8a"
      },
      "outputs": [
        {
          "output_type": "stream",
          "name": "stdout",
          "text": [
            "Best parameters:  {'alpha': 0.1}\n",
            "TF-IDF test accuracy (NB): 0.5365239294710328\n",
            "TF-IDF train accuracy (NB): 0.9602774274905422\n",
            "\n",
            "Naive Bayes Confusion Matrix:\n",
            "[[ 38  14  56]\n",
            " [ 17  58  52]\n",
            " [ 15  30 117]]\n",
            "\n",
            "\n"
          ]
        },
        {
          "output_type": "display_data",
          "data": {
            "text/plain": [
              "<Figure size 480x480 with 1 Axes>"
            ],
            "image/png": "[encoded data removed]"
          },
          "metadata": {}
        }
      ],
      "source": [
        "# Naive Bayes\n",
        "\n",
        "# Define the hyperparameter grid\n",
        "param_grid = {'alpha': [0.1, 1, 10]}\n",
        "\n",
        "# Create the NB model\n",
        "nb_model = MultinomialNB()\n",
        "\n",
        "# Create the GridSearchCV\n",
        "grid_search = GridSearchCV(estimator=nb_model, param_grid=param_grid, scoring='accuracy', cv=5)\n",
        "\n",
        "# Fit the grid search on the training data\n",
        "grid_search.fit(X_train, y_train)\n",
        "\n",
        "# Print the best parameters\n",
        "print(\"Best parameters: \", grid_search.best_params_)\n",
        "\n",
        "# Use the best model to make predictions on the test data\n",
        "nb_preds = grid_search.best_estimator_.predict(X_test)\n",
        "\n",
        "# Evaluate the performance of the classifier on the test set\n",
        "nb_accuracy = accuracy_score(y_test, nb_preds)\n",
        "accuracy_train = grid_search.score(X_train, y_train)\n",
        "print('TF-IDF test accuracy (NB):', nb_accuracy)\n",
        "print('TF-IDF train accuracy (NB):', accuracy_train)\n",
        "\n",
        "# Compute & plot Confusion Matrix for each model\n",
        "nb_cm = confusion_matrix(y_test, nb_preds)\n",
        "print(\"\\nNaive Bayes Confusion Matrix:\")\n",
        "print(nb_cm)\n",
        "print(\"\\n\")\n",
        "plt.matshow(nb_cm)\n",
        "plt.ylabel('True label')\n",
        "plt.xlabel('Predicted label')\n",
        "plt.show()"
      ]
    },
    {
      "cell_type": "code",
      "execution_count": 66,
      "id": "3770ee02",
      "metadata": {
        "colab": {
          "base_uri": "https://localhost:8080/",
          "height": 613
        },
        "id": "3770ee02",
        "outputId": "6d34d9c9-5b9b-41f4-ebc8-11ab2c668d8a"
      },
      "outputs": [
        {
          "output_type": "stream",
          "name": "stdout",
          "text": [
            "TF-IDF test accuracy (LR): 0.5138539042821159\n",
            "TF-IDF train accuracy (LR): 0.9085750315258512\n",
            "\n",
            "Logistic Regression Confusion Matrix:\n",
            "[[ 24  17  67]\n",
            " [  7  50  70]\n",
            " [  5  27 130]]\n",
            "\n",
            "\n"
          ]
        },
        {
          "output_type": "display_data",
          "data": {
            "text/plain": [
              "<Figure size 480x480 with 1 Axes>"
            ],
            "image/png": "[encoded data removed]"
          },
          "metadata": {}
        }
      ],
      "source": [
        "# Logistic Regression\n",
        "\n",
        "lr_model = LogisticRegression()\n",
        "lr_model.fit(X_train, y_train)\n",
        "lr_preds = lr_model.predict(X_test)\n",
        "\n",
        "# Evaluate the performance of the classifier on the test set\n",
        "lr_accuracy = accuracy_score(y_test, lr_preds)\n",
        "accuracy_train = lr_model.score(X_train, y_train)\n",
        "print('TF-IDF test accuracy (LR):', lr_accuracy)\n",
        "print('TF-IDF train accuracy (LR):', accuracy_train)\n",
        "\n",
        "# Compute & plot Confusion Matrix for each model\n",
        "lr_cm = confusion_matrix(y_test, lr_preds)\n",
        "print(\"\\nLogistic Regression Confusion Matrix:\")\n",
        "print(lr_cm)\n",
        "print(\"\\n\")\n",
        "plt.matshow(lr_cm)\n",
        "plt.ylabel('True label')\n",
        "plt.xlabel('Predicted label')\n",
        "plt.show()"
      ]
    },
    {
      "cell_type": "markdown",
      "source": [
        "# <font color='purple'>**Feature Extraction (BOW)**</font>\n"
      ],
      "metadata": {
        "id": "cpqlk-zFcaAj"
      },
      "id": "cpqlk-zFcaAj"
    },
    {
      "cell_type": "code",
      "execution_count": 67,
      "id": "1baaa37e",
      "metadata": {
        "id": "1baaa37e"
      },
      "outputs": [],
      "source": [
        "# BOW method\n",
        "\n",
        "# Split data into train and test sets\n",
        "X_train, X_test, y_train, y_test = train_test_split(data['Tweet Content'], data['label'], test_size=0.2, random_state=random.seed(random.randint(1, 100)))\n",
        "\n",
        "# Convert the text into a bag of words representation\n",
        "bow_vectorizer = CountVectorizer()\n",
        "X_train_bow = bow_vectorizer.fit_transform(X_train)\n",
        "X_test_bow = bow_vectorizer.transform(X_test)"
      ]
    },
    {
      "cell_type": "markdown",
      "source": [
        "# <font color='purple'>**Fine-tuning & Evaluation with BOW method**</font>\n"
      ],
      "metadata": {
        "id": "on003inLcwtp"
      },
      "id": "on003inLcwtp"
    },
    {
      "cell_type": "code",
      "execution_count": 68,
      "id": "49da19c4",
      "metadata": {
        "colab": {
          "base_uri": "https://localhost:8080/",
          "height": 631
        },
        "id": "49da19c4",
        "outputId": "39f26cac-2d16-4586-b6ad-ac3e001670b1"
      },
      "outputs": [
        {
          "output_type": "stream",
          "name": "stdout",
          "text": [
            "Best parameters:  {'C': 10, 'gamma': 0.01}\n",
            "BOW test accuracy (Non-Linear SVM): 0.49622166246851385\n",
            "BOW train accuracy (Non-Linear SVM): 0.9817150063051703\n",
            "\n",
            "SVM Confusion Matrix:\n",
            "[[ 33  31  25]\n",
            " [ 24  49  48]\n",
            " [ 27  45 115]]\n",
            "\n",
            "\n"
          ]
        },
        {
          "output_type": "display_data",
          "data": {
            "text/plain": [
              "<Figure size 480x480 with 1 Axes>"
            ],
            "image/png": "[encoded data removed]"
          },
          "metadata": {}
        }
      ],
      "source": [
        "# Non-Linear SVM\n",
        "\n",
        "# Define the hyperparameter grid\n",
        "param_grid = {'C': [0.1, 1, 10], 'gamma': [0.001, 0.01, 0.1]}\n",
        "# Create the SVM model\n",
        "svm_model = SVC(kernel='rbf')\n",
        "# Create the GridSearchCV\n",
        "grid_search = GridSearchCV(estimator=svm_model, param_grid=param_grid, scoring='accuracy', cv=5)\n",
        "# Fit the grid search on the training data\n",
        "grid_search.fit(X_train_bow, y_train)\n",
        "\n",
        "# Print the best parameters\n",
        "print(\"Best parameters: \", grid_search.best_params_)\n",
        "\n",
        "# Use the best model to make predictions on the test data\n",
        "svm_preds = grid_search.best_estimator_.predict(X_test_bow)\n",
        "\n",
        "# Evaluate the performance of the classifier on the test set\n",
        "svm_accuracy = accuracy_score(y_test, svm_preds)\n",
        "accuracy_train = grid_search.score(X_train_bow, y_train)\n",
        "print('BOW test accuracy (Non-Linear SVM):', svm_accuracy)\n",
        "print('BOW train accuracy (Non-Linear SVM):', accuracy_train)\n",
        "\n",
        "# Compute & plot Confusion Matrix for each model\n",
        "svm_cm = confusion_matrix(y_test, svm_preds)\n",
        "print(\"\\nSVM Confusion Matrix:\")\n",
        "print(svm_cm)\n",
        "print(\"\\n\")\n",
        "plt.matshow(svm_cm)\n",
        "plt.ylabel('True label')\n",
        "plt.xlabel('Predicted label')\n",
        "plt.show()"
      ]
    },
    {
      "cell_type": "code",
      "execution_count": 69,
      "id": "c4aad9a8",
      "metadata": {
        "colab": {
          "base_uri": "https://localhost:8080/",
          "height": 631
        },
        "id": "c4aad9a8",
        "outputId": "960be42c-880a-4771-da02-5daaf9452e5e"
      },
      "outputs": [
        {
          "output_type": "stream",
          "name": "stdout",
          "text": [
            "Best parameters:  {'alpha': 1}\n",
            "BOW test accuracy (NB): 0.5516372795969773\n",
            "BOW train accuracy (NB): 0.9110970996216898\n",
            "\n",
            "Naive Bayes Confusion Matrix:\n",
            "[[ 39  15  35]\n",
            " [ 23  38  60]\n",
            " [ 24  21 142]]\n",
            "\n",
            "\n"
          ]
        },
        {
          "output_type": "display_data",
          "data": {
            "text/plain": [
              "<Figure size 480x480 with 1 Axes>"
            ],
            "image/png": "[encoded data removed]"
          },
          "metadata": {}
        }
      ],
      "source": [
        "# Naive Bayes\n",
        "\n",
        "# Define the hyperparameter grid\n",
        "param_grid = {'alpha': [0.1, 1, 10]}\n",
        "\n",
        "# Create the NB model\n",
        "nb_model = MultinomialNB()\n",
        "\n",
        "# Create the GridSearchCV\n",
        "grid_search = GridSearchCV(estimator=nb_model, param_grid=param_grid, scoring='accuracy', cv=5)\n",
        "\n",
        "# Fit the grid search on the training data\n",
        "grid_search.fit(X_train_bow, y_train)\n",
        "\n",
        "# Print the best parameters\n",
        "print(\"Best parameters: \", grid_search.best_params_)\n",
        "\n",
        "# Use the best model to make predictions on the test data\n",
        "nb_preds = grid_search.best_estimator_.predict(X_test_bow)\n",
        "\n",
        "# Evaluate the performance of the classifier on the test set\n",
        "nb_accuracy = accuracy_score(y_test, nb_preds)\n",
        "accuracy_train = grid_search.score(X_train_bow, y_train)\n",
        "print('BOW test accuracy (NB):', nb_accuracy)\n",
        "print('BOW train accuracy (NB):', accuracy_train)\n",
        "\n",
        "# Compute & plot Confusion Matrix for each model\n",
        "nb_cm = confusion_matrix(y_test, nb_preds)\n",
        "print(\"\\nNaive Bayes Confusion Matrix:\")\n",
        "print(nb_cm)\n",
        "print(\"\\n\")\n",
        "plt.matshow(nb_cm)\n",
        "plt.ylabel('True label')\n",
        "plt.xlabel('Predicted label')\n",
        "plt.show()"
      ]
    },
    {
      "cell_type": "code",
      "execution_count": 70,
      "id": "ed566cf1",
      "metadata": {
        "colab": {
          "base_uri": "https://localhost:8080/",
          "height": 613
        },
        "id": "ed566cf1",
        "outputId": "7642f7e7-d202-4cc9-a8d5-d2b2fb2aeeaf"
      },
      "outputs": [
        {
          "output_type": "stream",
          "name": "stdout",
          "text": [
            "TF-IDF test accuracy (LR): 0.5138539042821159\n",
            "TF-IDF train accuracy (LR): 0.9955863808322825\n",
            "\n",
            "Logistic Regression Confusion Matrix:\n",
            "[[ 31  28  30]\n",
            " [ 15  56  50]\n",
            " [ 26  44 117]]\n",
            "\n",
            "\n"
          ]
        },
        {
          "output_type": "display_data",
          "data": {
            "text/plain": [
              "<Figure size 480x480 with 1 Axes>"
            ],
            "image/png": "[encoded data removed]"
          },
          "metadata": {}
        }
      ],
      "source": [
        "# Logistic Regression\n",
        "\n",
        "lr_model = LogisticRegression(max_iter = 10000)\n",
        "lr_model.fit(X_train_bow, y_train)\n",
        "lr_preds = lr_model.predict(X_test_bow)\n",
        "\n",
        "# Evaluate the performance of the classifier on the test set\n",
        "lr_accuracy = accuracy_score(y_test, lr_preds)\n",
        "accuracy_train = lr_model.score(X_train_bow, y_train)\n",
        "print('TF-IDF test accuracy (LR):', lr_accuracy)\n",
        "print('TF-IDF train accuracy (LR):', accuracy_train)\n",
        "\n",
        "# Compute & plot Confusion Matrix for each model\n",
        "lr_cm = confusion_matrix(y_test, lr_preds)\n",
        "print(\"\\nLogistic Regression Confusion Matrix:\")\n",
        "print(lr_cm)\n",
        "print(\"\\n\")\n",
        "plt.matshow(lr_cm)\n",
        "plt.ylabel('True label')\n",
        "plt.xlabel('Predicted label')\n",
        "plt.show()"
      ]
    },
    {
      "cell_type": "markdown",
      "source": [
        "# <font color='purple'>**Pre-trained BERT-Based-Uncased**</font>\n"
      ],
      "metadata": {
        "id": "CkTbmtxsjNzk"
      },
      "id": "CkTbmtxsjNzk"
    },
    {
      "cell_type": "code",
      "execution_count": 71,
      "id": "b66c19cd",
      "metadata": {
        "id": "b66c19cd"
      },
      "outputs": [],
      "source": [
        "# import extra required libraries\n",
        "import torch\n",
        "from transformers import BertTokenizer, BertModel\n",
        "\n",
        "# Feature extraction using BERT\n",
        "\n",
        "# Load pre-trained BERT tokenizer\n",
        "tokenizer = BertTokenizer.from_pretrained('bert-base-uncased')\n",
        "\n",
        "# Tokenize text data\n",
        "tokenized_data = data['Tweet Content'].apply((lambda x: tokenizer.encode(x, add_special_tokens=True)))\n",
        "\n",
        "# Pad tokenized sequences\n",
        "max_len = max(map(len, tokenized_data))\n",
        "padded_data = np.array([i + [0]*(max_len-len(i)) for i in tokenized_data.values])\n",
        "\n",
        "# Convert to tensors\n",
        "input_ids = torch.tensor(padded_data)\n",
        "\n",
        "# Load pre-trained BERT model\n",
        "model = BertModel.from_pretrained('bert-base-uncased')\n",
        "\n",
        "# Use pre-trained BERT model to get embeddings\n",
        "with torch.no_grad():\n",
        "    model.eval()\n",
        "    embeddings = model(input_ids)[0][:,0,:].numpy()  # Using the [CLS] token embedding for each sequence"
      ]
    },
    {
      "cell_type": "code",
      "execution_count": 72,
      "id": "6b2907af",
      "metadata": {
        "colab": {
          "base_uri": "https://localhost:8080/",
          "height": 596
        },
        "id": "6b2907af",
        "outputId": "1d9f14ff-e82e-4814-b11f-049924f20e2b"
      },
      "outputs": [
        {
          "output_type": "stream",
          "name": "stdout",
          "text": [
            "SVM Accuracy with BERT: 0.5138539042821159\n",
            "\n",
            "SVM Confusion Matrix:\n",
            "[[ 39  24  41]\n",
            " [ 26  46  45]\n",
            " [ 22  35 119]]\n",
            "\n",
            "\n"
          ]
        },
        {
          "output_type": "display_data",
          "data": {
            "text/plain": [
              "<Figure size 480x480 with 1 Axes>"
            ],
            "image/png": "[encoded data removed]"
          },
          "metadata": {}
        }
      ],
      "source": [
        "# Model selection with BERT embeddings\n",
        "\n",
        "# Split data into train and test sets\n",
        "X_train, X_test, y_train, y_test = train_test_split(embeddings, data['label'], test_size=0.2, random_state=random.seed(random.randint(1, 100)))\n",
        "\n",
        "\n",
        "# SVM\n",
        "svm_model = SVC(kernel='linear')\n",
        "svm_model.fit(X_train, y_train)\n",
        "svm_preds = svm_model.predict(X_test)\n",
        "svm_accuracy = accuracy_score(y_test, svm_preds)\n",
        "svm_cm = confusion_matrix(y_test, svm_preds)\n",
        "\n",
        "print(\"SVM Accuracy with BERT:\", svm_accuracy)\n",
        "print(\"\\nSVM Confusion Matrix:\")\n",
        "print(svm_cm)\n",
        "print(\"\\n\")\n",
        "plt.matshow(svm_cm)\n",
        "plt.ylabel('True label')\n",
        "plt.xlabel('Predicted label')\n",
        "plt.show()"
      ]
    },
    {
      "cell_type": "code",
      "source": [
        "from sklearn.preprocessing import MinMaxScaler\n",
        "\n",
        "# Create an instance of the MinMaxScaler class\n",
        "scaler = MinMaxScaler()\n",
        "\n",
        "# Scale the input data to non-negative values\n",
        "X_train_scaled = scaler.fit_transform(X_train)\n",
        "X_test_scaled = scaler.transform(X_test)\n",
        "\n",
        "# Naive Bayes\n",
        "nb_model = MultinomialNB()\n",
        "nb_model.fit(X_train_scaled, y_train)\n",
        "nb_preds = nb_model.predict(X_test_scaled)\n",
        "nb_accuracy = accuracy_score(y_test, nb_preds)\n",
        "nb_cm = confusion_matrix(y_test, nb_preds)\n",
        "\n",
        "print(\"Naive Bayes Accuracy:\", nb_accuracy)\n",
        "print(\"\\nNaive Bayes Confusion Matrix:\")\n",
        "print(nb_cm)\n",
        "print(\"\\n\")\n",
        "plt.matshow(nb_cm)\n",
        "plt.ylabel('True label')\n",
        "plt.xlabel('Predicted label')\n",
        "plt.show()"
      ],
      "metadata": {
        "colab": {
          "base_uri": "https://localhost:8080/",
          "height": 596
        },
        "id": "vYAv9F01HVOW",
        "outputId": "b5b89df6-e6a5-4d44-ed83-56a7eb61b157"
      },
      "id": "vYAv9F01HVOW",
      "execution_count": 73,
      "outputs": [
        {
          "output_type": "stream",
          "name": "stdout",
          "text": [
            "Naive Bayes Accuracy: 0.4332493702770781\n",
            "\n",
            "Naive Bayes Confusion Matrix:\n",
            "[[ 19  20  65]\n",
            " [ 11  39  67]\n",
            " [  9  53 114]]\n",
            "\n",
            "\n"
          ]
        },
        {
          "output_type": "display_data",
          "data": {
            "text/plain": [
              "<Figure size 480x480 with 1 Axes>"
            ],
            "image/png": "[encoded data removed]"
          },
          "metadata": {}
        }
      ]
    },
    {
      "cell_type": "code",
      "source": [
        "# Logistic Regression\n",
        "lr_model = LogisticRegression(max_iter = 10000)\n",
        "lr_model.fit(X_train, y_train)\n",
        "lr_preds = lr_model.predict(X_test)\n",
        "lr_accuracy = accuracy_score(y_test, lr_preds)\n",
        "lr_cm = confusion_matrix(y_test, lr_preds)\n",
        "\n",
        "print(\"Logistic Regression Accuracy:\", lr_accuracy)\n",
        "print(\"\\nLogistic Regression Confusion Matrix:\")\n",
        "print(lr_cm)\n",
        "print(\"\\n\")\n",
        "plt.matshow(lr_cm)\n",
        "plt.ylabel('True label')\n",
        "plt.xlabel('Predicted label')\n",
        "plt.show()"
      ],
      "metadata": {
        "id": "Gn9vrfgqIwCs",
        "colab": {
          "base_uri": "https://localhost:8080/",
          "height": 596
        },
        "outputId": "c94f45f1-cbbc-49ee-f927-e538e640764c"
      },
      "id": "Gn9vrfgqIwCs",
      "execution_count": 74,
      "outputs": [
        {
          "output_type": "stream",
          "name": "stdout",
          "text": [
            "Logistic Regression Accuracy: 0.5138539042821159\n",
            "\n",
            "Logistic Regression Confusion Matrix:\n",
            "[[ 39  29  36]\n",
            " [ 23  44  50]\n",
            " [ 20  35 121]]\n",
            "\n",
            "\n"
          ]
        },
        {
          "output_type": "display_data",
          "data": {
            "text/plain": [
              "<Figure size 480x480 with 1 Axes>"
            ],
            "image/png": "[encoded data removed]"
          },
          "metadata": {}
        }
      ]
    }
  ],
  "metadata": {
    "kernelspec": {
      "display_name": "Python 3",
      "name": "python3"
    },
    "language_info": {
      "codemirror_mode": {
        "name": "ipython",
        "version": 3
      },
      "file_extension": ".py",
      "mimetype": "text/x-python",
      "name": "python",
      "nbconvert_exporter": "python",
      "pygments_lexer": "ipython3",
      "version": "3.10.9"
    },
    "colab": {
      "provenance": [],
      "gpuType": "T4"
    },
    "accelerator": "GPU"
  },
  "nbformat": 4,
  "nbformat_minor": 5
}