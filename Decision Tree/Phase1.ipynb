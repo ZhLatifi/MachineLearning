{
 "cells": [
  {
   "cell_type": "markdown",
   "metadata": {},
   "source": [
    "# Homework: Decision Tree\n",
    "## Phase 1: Implementing the ID3 Decision Tree Algorithm\n",
    "***"
   ]
  },
  {
   "cell_type": "markdown",
   "metadata": {},
   "source": [
    "## Import Libraries"
   ]
  },
  {
   "cell_type": "code",
   "execution_count": 2,
   "metadata": {
    "execution": {
     "iopub.execute_input": "2022-10-23T17:47:19.294281Z",
     "iopub.status.busy": "2022-10-23T17:47:19.293652Z",
     "iopub.status.idle": "2022-10-23T17:47:19.297578Z",
     "shell.execute_reply": "2022-10-23T17:47:19.298190Z"
    },
    "papermill": {
     "duration": 0.017717,
     "end_time": "2022-10-23T17:47:19.298506",
     "exception": false,
     "start_time": "2022-10-23T17:47:19.280789",
     "status": "completed"
    },
    "tags": []
   },
   "outputs": [],
   "source": [
    "# complete\n",
    "import numpy as np\n",
    "import pandas as pd\n",
    "from matplotlib import pyplot as plt"
   ]
  },
  {
   "cell_type": "markdown",
   "metadata": {},
   "source": [
    "## Load Dataset (CSV file)"
   ]
  },
  {
   "cell_type": "code",
   "execution_count": 31,
   "metadata": {
    "execution": {
     "iopub.execute_input": "2022-10-23T17:47:19.320031Z",
     "iopub.status.busy": "2022-10-23T17:47:19.319427Z",
     "iopub.status.idle": "2022-10-23T17:47:19.342312Z",
     "shell.execute_reply": "2022-10-23T17:47:19.341606Z"
    },
    "papermill": {
     "duration": 0.034366,
     "end_time": "2022-10-23T17:47:19.342460",
     "exception": false,
     "start_time": "2022-10-23T17:47:19.308094",
     "status": "completed"
    },
    "tags": []
   },
   "outputs": [
    {
     "name": "stdout",
     "output_type": "stream",
     "text": [
      "Number of rows is 14 & Number of columns is 5 & Number of features is 4 & Number of classes/labels is 2.\n"
     ]
    }
   ],
   "source": [
    "# complete\n",
    "train_data_m = pd.read_csv(\"PlayTennis_train.csv\")\n",
    "test_data_m = pd.read_csv(\"PlayTennis_test.csv\")\n",
    "train_data_m.shape[0]\n",
    "train_data_m.shape[1]\n",
    "instancesNum = train_data_m.shape[0]\n",
    "featuresNum = train_data_m.shape[1]\n",
    "labelClassNum = len(np.unique(train_data_m['Play Tennis']))\n",
    "print(f\"Number of rows is {instancesNum} & Number of columns is {featuresNum} & Number of features is {featuresNum-1} & Number of classes/labels is {labelClassNum}.\")"
   ]
  },
  {
   "cell_type": "code",
   "execution_count": 4,
   "metadata": {
    "execution": {
     "iopub.execute_input": "2022-10-23T17:47:19.372232Z",
     "iopub.status.busy": "2022-10-23T17:47:19.371594Z",
     "iopub.status.idle": "2022-10-23T17:47:19.390276Z",
     "shell.execute_reply": "2022-10-23T17:47:19.389733Z"
    },
    "papermill": {
     "duration": 0.038811,
     "end_time": "2022-10-23T17:47:19.390420",
     "exception": false,
     "start_time": "2022-10-23T17:47:19.351609",
     "status": "completed"
    },
    "tags": []
   },
   "outputs": [
    {
     "data": {
      "text/html": [
       "<div>\n",
       "<style scoped>\n",
       "    .dataframe tbody tr th:only-of-type {\n",
       "        vertical-align: middle;\n",
       "    }\n",
       "\n",
       "    .dataframe tbody tr th {\n",
       "        vertical-align: top;\n",
       "    }\n",
       "\n",
       "    .dataframe thead th {\n",
       "        text-align: right;\n",
       "    }\n",
       "</style>\n",
       "<table border=\"1\" class=\"dataframe\">\n",
       "  <thead>\n",
       "    <tr style=\"text-align: right;\">\n",
       "      <th></th>\n",
       "      <th>Outlook</th>\n",
       "      <th>Temperature</th>\n",
       "      <th>Humidity</th>\n",
       "      <th>Wind</th>\n",
       "      <th>Play Tennis</th>\n",
       "    </tr>\n",
       "  </thead>\n",
       "  <tbody>\n",
       "    <tr>\n",
       "      <th>0</th>\n",
       "      <td>Sunny</td>\n",
       "      <td>Hot</td>\n",
       "      <td>High</td>\n",
       "      <td>Weak</td>\n",
       "      <td>No</td>\n",
       "    </tr>\n",
       "    <tr>\n",
       "      <th>1</th>\n",
       "      <td>Sunny</td>\n",
       "      <td>Hot</td>\n",
       "      <td>High</td>\n",
       "      <td>Strong</td>\n",
       "      <td>No</td>\n",
       "    </tr>\n",
       "    <tr>\n",
       "      <th>2</th>\n",
       "      <td>Overcast</td>\n",
       "      <td>Hot</td>\n",
       "      <td>High</td>\n",
       "      <td>Weak</td>\n",
       "      <td>Yes</td>\n",
       "    </tr>\n",
       "    <tr>\n",
       "      <th>3</th>\n",
       "      <td>Rain</td>\n",
       "      <td>Mild</td>\n",
       "      <td>High</td>\n",
       "      <td>Weak</td>\n",
       "      <td>Yes</td>\n",
       "    </tr>\n",
       "    <tr>\n",
       "      <th>4</th>\n",
       "      <td>Rain</td>\n",
       "      <td>Cool</td>\n",
       "      <td>Normal</td>\n",
       "      <td>Weak</td>\n",
       "      <td>Yes</td>\n",
       "    </tr>\n",
       "  </tbody>\n",
       "</table>\n",
       "</div>"
      ],
      "text/plain": [
       "    Outlook Temperature Humidity    Wind Play Tennis\n",
       "0     Sunny         Hot     High    Weak          No\n",
       "1     Sunny         Hot     High  Strong          No\n",
       "2  Overcast         Hot     High    Weak         Yes\n",
       "3      Rain        Mild     High    Weak         Yes\n",
       "4      Rain        Cool   Normal    Weak         Yes"
      ]
     },
     "execution_count": 4,
     "metadata": {},
     "output_type": "execute_result"
    }
   ],
   "source": [
    "train_data_m.head()"
   ]
  },
  {
   "cell_type": "markdown",
   "metadata": {},
   "source": [
    "## Calculating the entropy of the whole dataset"
   ]
  },
  {
   "cell_type": "code",
   "execution_count": 5,
   "metadata": {
    "execution": {
     "iopub.execute_input": "2022-10-23T17:47:19.416708Z",
     "iopub.status.busy": "2022-10-23T17:47:19.415720Z",
     "iopub.status.idle": "2022-10-23T17:47:19.418888Z",
     "shell.execute_reply": "2022-10-23T17:47:19.418275Z"
    },
    "papermill": {
     "duration": 0.018608,
     "end_time": "2022-10-23T17:47:19.419033",
     "exception": false,
     "start_time": "2022-10-23T17:47:19.400425",
     "status": "completed"
    },
    "tags": []
   },
   "outputs": [],
   "source": [
    "def calc_total_entropy(train_data, label, class_list):\n",
    "    # complete\n",
    "    totalSize = train_data.shape[0]\n",
    "    totalEntropy = 0\n",
    "    # each class of the label\n",
    "    for c in class_list:\n",
    "        totalClassNum = train_data[train_data[label] == c].shape[0]\n",
    "        # entropy of each class\n",
    "        totalClassEntropy = - (totalClassNum/totalSize)*np.log2(totalClassNum/totalSize)\n",
    "        # calc. total entropy of dataset\n",
    "        totalEntropy += totalClassEntropy\n",
    "    return totalEntropy"
   ]
  },
  {
   "cell_type": "markdown",
   "metadata": {},
   "source": [
    "## Calculating the entropy for a feature"
   ]
  },
  {
   "cell_type": "code",
   "execution_count": 6,
   "metadata": {
    "execution": {
     "iopub.execute_input": "2022-10-23T17:47:19.445583Z",
     "iopub.status.busy": "2022-10-23T17:47:19.444935Z",
     "iopub.status.idle": "2022-10-23T17:47:19.447923Z",
     "shell.execute_reply": "2022-10-23T17:47:19.447420Z"
    },
    "papermill": {
     "duration": 0.018996,
     "end_time": "2022-10-23T17:47:19.448073",
     "exception": false,
     "start_time": "2022-10-23T17:47:19.429077",
     "status": "completed"
    },
    "tags": []
   },
   "outputs": [],
   "source": [
    "def calc_entropy(feature_value_data, label, class_list):\n",
    "    # complete\n",
    "    classNum = feature_value_data.shape[0]\n",
    "    entropy = 0\n",
    "    for c in class_list:\n",
    "        # size of a class\n",
    "        labelClassNum = feature_value_data[feature_value_data[label] == c].shape[0]\n",
    "        classEntropy = 0\n",
    "        if labelClassNum != 0:\n",
    "            probability = labelClassNum/classNum\n",
    "            # entropy\n",
    "            classEntropy = - probability * np.log2(probability)\n",
    "        # calc. total entropy of class\n",
    "        entropy += classEntropy\n",
    "    return entropy"
   ]
  },
  {
   "cell_type": "markdown",
   "metadata": {},
   "source": [
    "## Calculating information gain for a feature"
   ]
  },
  {
   "cell_type": "code",
   "execution_count": 7,
   "metadata": {
    "execution": {
     "iopub.execute_input": "2022-10-23T17:47:19.474493Z",
     "iopub.status.busy": "2022-10-23T17:47:19.473864Z",
     "iopub.status.idle": "2022-10-23T17:47:19.476826Z",
     "shell.execute_reply": "2022-10-23T17:47:19.476192Z"
    },
    "papermill": {
     "duration": 0.018787,
     "end_time": "2022-10-23T17:47:19.476971",
     "exception": false,
     "start_time": "2022-10-23T17:47:19.458184",
     "status": "completed"
    },
    "tags": []
   },
   "outputs": [],
   "source": [
    "def calc_info_gain(feature_name, train_data, label, class_list):\n",
    "    # complete\n",
    "    fValueList = train_data[feature_name].unique() #unqiue values of the feature\n",
    "    totalSize = train_data.shape[0]\n",
    "    featureIG = 0.0\n",
    "    for fvalue in fValueList:\n",
    "        # just feature value rows\n",
    "        feature_value_data = train_data[train_data[feature_name] == fvalue]\n",
    "        fValueNum = feature_value_data.shape[0]\n",
    "        # entropy of each feature value\n",
    "        fValueEntropy = calc_entropy(feature_value_data, label, class_list)\n",
    "        fValueProb = fValueNum / totalSize\n",
    "        # calc. information gain of a feature value\n",
    "        featureIG += fValueProb * fValueEntropy\n",
    "    \n",
    "    # return information gain   \n",
    "    return calc_total_entropy(train_data, label, class_list) - featureIG\n"
   ]
  },
  {
   "cell_type": "markdown",
   "metadata": {},
   "source": [
    "## Finding the most informative feature (feature with highest information gain)"
   ]
  },
  {
   "cell_type": "code",
   "execution_count": 8,
   "metadata": {
    "execution": {
     "iopub.execute_input": "2022-10-23T17:47:19.503001Z",
     "iopub.status.busy": "2022-10-23T17:47:19.502356Z",
     "iopub.status.idle": "2022-10-23T17:47:19.505392Z",
     "shell.execute_reply": "2022-10-23T17:47:19.504885Z"
    },
    "papermill": {
     "duration": 0.018374,
     "end_time": "2022-10-23T17:47:19.505532",
     "exception": false,
     "start_time": "2022-10-23T17:47:19.487158",
     "status": "completed"
    },
    "tags": []
   },
   "outputs": [],
   "source": [
    "de(train_data, label, class_list):\n",
    "    # complete\n",
    "    # extract feature names\n",
    "    feature_list = train_data.columns.drop(label)\n",
    "    maxIG = -1\n",
    "    maxIGfeature = None\n",
    "    \n",
    "    for f in feature_list:\n",
    "        # calc. IG for each feature\n",
    "        featureIG = calc_info_gain(f, train_data, label, class_list)\n",
    "        # finding MAX information gain\n",
    "        if maxIG < featureIG:\n",
    "            maxIG = featureIG\n",
    "            maxIGfeature = f\n",
    "            \n",
    "    return maxIGfeature"
   ]
  },
  {
   "cell_type": "markdown",
   "metadata": {},
   "source": [
    "## Adding a node to the tree"
   ]
  },
  {
   "cell_type": "code",
   "execution_count": 9,
   "metadata": {
    "execution": {
     "iopub.execute_input": "2022-10-23T17:47:19.533817Z",
     "iopub.status.busy": "2022-10-23T17:47:19.533185Z",
     "iopub.status.idle": "2022-10-23T17:47:19.536646Z",
     "shell.execute_reply": "2022-10-23T17:47:19.536154Z"
    },
    "papermill": {
     "duration": 0.0209,
     "end_time": "2022-10-23T17:47:19.536839",
     "exception": false,
     "start_time": "2022-10-23T17:47:19.515939",
     "status": "completed"
    },
    "tags": []
   },
   "outputs": [],
   "source": [
    "def generate_sub_tree(feature_name, train_data, label, class_list):\n",
    "    feature_value_count_dict = train_data[feature_name].value_counts(sort=False)\n",
    "    tree = {}\n",
    "    \n",
    "    for feature_value, count in feature_value_count_dict.items():\n",
    "        feature_value_data = train_data[train_data[feature_name] == feature_value]\n",
    "        \n",
    "        assigned_to_node = False\n",
    "        for c in class_list:\n",
    "            class_count = feature_value_data[feature_value_data[label] == c].shape[0]\n",
    "\n",
    "            if class_count == count:\n",
    "                tree[feature_value] = c\n",
    "                train_data = train_data[train_data[feature_name] != feature_value]\n",
    "                assigned_to_node = True\n",
    "        if not assigned_to_node:\n",
    "            tree[feature_value] = \"?\"\n",
    "            \n",
    "    return tree, train_data"
   ]
  },
  {
   "cell_type": "markdown",
   "metadata": {},
   "source": [
    "##  Performing ID3 Algorithm and generating Tree"
   ]
  },
  {
   "cell_type": "code",
   "execution_count": 10,
   "metadata": {
    "execution": {
     "iopub.execute_input": "2022-10-23T17:47:19.565466Z",
     "iopub.status.busy": "2022-10-23T17:47:19.564798Z",
     "iopub.status.idle": "2022-10-23T17:47:19.567634Z",
     "shell.execute_reply": "2022-10-23T17:47:19.567009Z"
    },
    "papermill": {
     "duration": 0.020669,
     "end_time": "2022-10-23T17:47:19.567823",
     "exception": false,
     "start_time": "2022-10-23T17:47:19.547154",
     "status": "completed"
    },
    "tags": []
   },
   "outputs": [],
   "source": [
    "def make_tree(root, prev_feature_value, train_data, label, class_list):\n",
    "    # complete\n",
    "    # check if dataset is not empty\n",
    "    if train_data.shape[0] != 0:\n",
    "        # find next feature with maxIG to be a node\n",
    "        maxIGfeature = find_most_informative_feature(train_data, label, class_list)\n",
    "        # generate sub-tree and updated dataset\n",
    "        tree, train_data = generate_sub_tree(maxIGfeature, train_data, label, class_list)\n",
    "        nodes = None\n",
    "        # if we are not at the root of tree add a feature to nodes\n",
    "        if prev_feature_value != None:\n",
    "            root[prev_feature_value] = dict()\n",
    "            root[prev_feature_value][maxIGfeature] = tree\n",
    "            nodes = root[prev_feature_value][maxIGfeature]\n",
    "        else: # add it as root of the tree\n",
    "            root[maxIGfeature] = tree\n",
    "            nodes = root[maxIGfeature]\n",
    "        \n",
    "        # check each nodes\n",
    "        for node, branch in list(nodes.items()):\n",
    "            # if it is not a leaf\n",
    "            if branch == \"?\":\n",
    "                # change feature_value_data with updated dataset to expand the node\n",
    "                feature_value_data = train_data[train_data[maxIGfeature] == node]\n",
    "                # call func. recursively\n",
    "                make_tree(nodes, node, feature_value_data, label, class_list)\n"
   ]
  },
  {
   "cell_type": "markdown",
   "metadata": {},
   "source": [
    "## Finding unique classes of the label and Starting the algorithm"
   ]
  },
  {
   "cell_type": "code",
   "execution_count": 11,
   "metadata": {
    "execution": {
     "iopub.execute_input": "2022-10-23T17:47:19.595497Z",
     "iopub.status.busy": "2022-10-23T17:47:19.594863Z",
     "iopub.status.idle": "2022-10-23T17:47:19.597806Z",
     "shell.execute_reply": "2022-10-23T17:47:19.597274Z"
    },
    "papermill": {
     "duration": 0.019467,
     "end_time": "2022-10-23T17:47:19.597973",
     "exception": false,
     "start_time": "2022-10-23T17:47:19.578506",
     "status": "completed"
    },
    "tags": []
   },
   "outputs": [],
   "source": [
    "def id3(train_data_m, label):\n",
    "    train_data = train_data_m.copy()\n",
    "    tree = {}\n",
    "    class_list = train_data[label].unique()\n",
    "    make_tree(tree, None, train_data, label, class_list)\n",
    "    \n",
    "    return tree"
   ]
  },
  {
   "cell_type": "markdown",
   "metadata": {},
   "source": [
    "## Predicting from the tree"
   ]
  },
  {
   "cell_type": "code",
   "execution_count": 12,
   "metadata": {
    "execution": {
     "iopub.execute_input": "2022-10-23T17:47:19.624911Z",
     "iopub.status.busy": "2022-10-23T17:47:19.624266Z",
     "iopub.status.idle": "2022-10-23T17:47:19.627375Z",
     "shell.execute_reply": "2022-10-23T17:47:19.626902Z"
    },
    "papermill": {
     "duration": 0.018973,
     "end_time": "2022-10-23T17:47:19.627528",
     "exception": false,
     "start_time": "2022-10-23T17:47:19.608555",
     "status": "completed"
    },
    "tags": []
   },
   "outputs": [],
   "source": [
    "def predict(tree, instance):\n",
    "    if not isinstance(tree, dict):\n",
    "        return tree\n",
    "    else:\n",
    "        root_node = next(iter(tree))\n",
    "        feature_value = instance[root_node]\n",
    "        if feature_value in tree[root_node]:\n",
    "            return predict(tree[root_node][feature_value], instance)\n",
    "        else:\n",
    "            return None"
   ]
  },
  {
   "cell_type": "markdown",
   "metadata": {},
   "source": [
    "## Evaluating test dataset"
   ]
  },
  {
   "cell_type": "code",
   "execution_count": 13,
   "metadata": {
    "execution": {
     "iopub.execute_input": "2022-10-23T17:47:19.655112Z",
     "iopub.status.busy": "2022-10-23T17:47:19.654473Z",
     "iopub.status.idle": "2022-10-23T17:47:19.657213Z",
     "shell.execute_reply": "2022-10-23T17:47:19.656603Z"
    },
    "papermill": {
     "duration": 0.018989,
     "end_time": "2022-10-23T17:47:19.657351",
     "exception": false,
     "start_time": "2022-10-23T17:47:19.638362",
     "status": "completed"
    },
    "tags": []
   },
   "outputs": [],
   "source": [
    "def evaluate(tree, test_data_m, label):\n",
    "    correct_preditct = 0\n",
    "    wrong_preditct = 0\n",
    "    for index, row in test_data_m.iterrows():\n",
    "        result = predict(tree, test_data_m.iloc[index])\n",
    "        if result == test_data_m[label].iloc[index]:\n",
    "            correct_preditct += 1\n",
    "        else:\n",
    "            wrong_preditct += 1\n",
    "    accuracy = correct_preditct / (correct_preditct + wrong_preditct)\n",
    "    return accuracy"
   ]
  },
  {
   "cell_type": "code",
   "execution_count": 14,
   "metadata": {
    "execution": {
     "iopub.execute_input": "2022-10-23T17:47:19.685926Z",
     "iopub.status.busy": "2022-10-23T17:47:19.685291Z",
     "iopub.status.idle": "2022-10-23T17:47:19.748164Z",
     "shell.execute_reply": "2022-10-23T17:47:19.748642Z"
    },
    "papermill": {
     "duration": 0.080082,
     "end_time": "2022-10-23T17:47:19.748865",
     "exception": false,
     "start_time": "2022-10-23T17:47:19.668783",
     "status": "completed"
    },
    "tags": []
   },
   "outputs": [
    {
     "data": {
      "text/plain": [
       "{'Outlook': {'Sunny': {'Humidity': {'High': 'No', 'Normal': 'Yes'}},\n",
       "  'Overcast': 'Yes',\n",
       "  'Rain': {'Wind': {'Weak': 'Yes', 'Strong': 'No'}}}}"
      ]
     },
     "execution_count": 14,
     "metadata": {},
     "output_type": "execute_result"
    }
   ],
   "source": [
    "tree = id3(train_data_m, 'Play Tennis')\n",
    "tree"
   ]
  },
  {
   "cell_type": "code",
   "execution_count": 15,
   "metadata": {
    "execution": {
     "iopub.execute_input": "2022-10-23T17:47:19.779792Z",
     "iopub.status.busy": "2022-10-23T17:47:19.779122Z",
     "iopub.status.idle": "2022-10-23T17:47:19.782450Z",
     "shell.execute_reply": "2022-10-23T17:47:19.781825Z"
    },
    "papermill": {
     "duration": 0.021038,
     "end_time": "2022-10-23T17:47:19.782593",
     "exception": false,
     "start_time": "2022-10-23T17:47:19.761555",
     "status": "completed"
    },
    "tags": []
   },
   "outputs": [
    {
     "name": "stdout",
     "output_type": "stream",
     "text": [
      "accuracy: 1.0\n"
     ]
    }
   ],
   "source": [
    "accuracy = evaluate(tree, test_data_m, 'Play Tennis')\n",
    "print(\"accuracy:\", accuracy)"
   ]
  },
  {
   "cell_type": "markdown",
   "metadata": {},
   "source": [
    "## Pruning"
   ]
  },
  {
   "cell_type": "code",
   "execution_count": 16,
   "metadata": {},
   "outputs": [
    {
     "name": "stdout",
     "output_type": "stream",
     "text": [
      "training accuracy:  1.0\n",
      "validation accuracy: 0.787\n",
      "test accuracy: 0.796\n"
     ]
    }
   ],
   "source": [
    "# def rep_pruning(tree, validation_data, label):\n",
    "# complete\n",
    "train_data = pd.read_csv(\"mushrooms_train.csv\")\n",
    "valid_data = pd.read_csv(\"mushrooms_valid.csv\")\n",
    "test_data = pd.read_csv(\"mushrooms_test.csv\")    \n",
    "\n",
    "tree = id3(train_data, 'poisonous')\n",
    "acc = evaluate(tree, train_data, 'poisonous')\n",
    "print(\"training accuracy: \",acc)\n",
    "acc = evaluate(tree, valid_data, 'poisonous')\n",
    "print(f\"validation accuracy: {acc:.3f}\")\n",
    "acc = evaluate(tree, test_data, 'poisonous')\n",
    "print(f\"test accuracy: {acc:.3f}\")"
   ]
  }
 ],
 "metadata": {
  "kernelspec": {
   "display_name": "Python 3 (ipykernel)",
   "language": "python",
   "name": "python3"
  },
  "language_info": {
   "codemirror_mode": {
    "name": "ipython",
    "version": 3
   },
   "file_extension": ".py",
   "mimetype": "text/x-python",
   "name": "python",
   "nbconvert_exporter": "python",
   "pygments_lexer": "ipython3",
   "version": "3.10.9"
  },
  "papermill": {
   "default_parameters": {},
   "duration": 6.631128,
   "end_time": "2022-10-23T17:47:20.428183",
   "environment_variables": {},
   "exception": null,
   "input_path": "__notebook__.ipynb",
   "output_path": "__notebook__.ipynb",
   "parameters": {},
   "start_time": "2022-10-23T17:47:13.797055",
   "version": "2.2.2"
  }
 },
 "nbformat": 4,
 "nbformat_minor": 4
}
