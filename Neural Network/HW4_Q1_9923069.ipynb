{
 "cells": [
  {
   "cell_type": "code",
   "execution_count": 993,
   "id": "7da16ee8",
   "metadata": {},
   "outputs": [],
   "source": [
    "import numpy as np"
   ]
  },
  {
   "cell_type": "code",
   "execution_count": 994,
   "id": "016d68c2",
   "metadata": {},
   "outputs": [],
   "source": [
    "# Define input vectors and labels\n",
    "X = np.array([[0, 1, 1,\n",
    "               0, 1, 1,\n",
    "               0, 0, 0], # L\n",
    "              [0, 1, 0,\n",
    "               0, 0, 0,\n",
    "               0, 1, 0]]) # H\n",
    "\n",
    "y = np.array([0, 1]) # Labels"
   ]
  },
  {
   "cell_type": "code",
   "execution_count": 995,
   "id": "c5f4d219",
   "metadata": {},
   "outputs": [],
   "source": [
    "# Define the hard activation function\n",
    "def step(x):\n",
    "    if x < 0:\n",
    "        return 0\n",
    "    else:\n",
    "        return 1"
   ]
  },
  {
   "cell_type": "code",
   "execution_count": 996,
   "id": "8c9b3fbd",
   "metadata": {},
   "outputs": [],
   "source": [
    "# Init. weights and bias\n",
    "W = np.random.normal(0.5, 1, 9)\n",
    "b = -1\n",
    "\n",
    "# Training function\n",
    "def train(b, W, error):\n",
    "    # Define the learning rate and number of training data\n",
    "    alpha = 0.01\n",
    "    P = len(X)\n",
    "    # Loop over the input vectors\n",
    "    for p in range(P):\n",
    "        # Compute output of the perceptron\n",
    "        z = np.dot(X[p], W) + b\n",
    "        y_pred = step(z)\n",
    "\n",
    "        # Update weights and bias\n",
    "        W = W + alpha * X[p].transpose() * (y[p] - y_pred)\n",
    "        b = b + alpha * (y[i] - y_pred)\n",
    "\n",
    "        # Compute error\n",
    "        error = error + (1/2)*np.power((y[p] - y_pred), 2)\n",
    "    return b, W , error"
   ]
  },
  {
   "cell_type": "code",
   "execution_count": 997,
   "id": "68a32914",
   "metadata": {},
   "outputs": [],
   "source": [
    "# Init. number of epochs & error\n",
    "k = 1\n",
    "error = 0\n",
    "# Train the model until the error be equal to 0\n",
    "[b, W, error] = train(b, W, error)\n",
    "while(error > 0):\n",
    "    k = k + 1\n",
    "    error = 0\n",
    "    [b, W, error] = train(b, W, error)"
   ]
  },
  {
   "cell_type": "code",
   "execution_count": 998,
   "id": "10ae653d",
   "metadata": {},
   "outputs": [
    {
     "name": "stdout",
     "output_type": "stream",
     "text": [
      "Input: [0 1 1 0 1 1 0 0 0]\n",
      "Predicted label: L\n",
      "60\n",
      "Input: [0 1 0 0 0 0 0 1 0]\n",
      "Predicted label: H\n",
      "60\n"
     ]
    }
   ],
   "source": [
    "# Evaluation with training data\n",
    "for i in range(len(X)):\n",
    "    z = np.dot(X[i], W) + b\n",
    "    y_pred = step(z)\n",
    "    if y_pred == 0:\n",
    "        label = \"L\"\n",
    "    elif y_pred == 1:\n",
    "        label = \"H\"\n",
    "\n",
    "    # Print the predicted label & number of epochs\n",
    "    print(f\"Input: {X[i]}\")\n",
    "    print(f\"Predicted label: {label}\")\n",
    "    print(k)"
   ]
  },
  {
   "cell_type": "code",
   "execution_count": 999,
   "id": "54d77ab0",
   "metadata": {},
   "outputs": [
    {
     "name": "stdout",
     "output_type": "stream",
     "text": [
      "Input: [0 1 0 0 1 1 0 0 0]\n",
      "Predicted label: L\n",
      "Input: [0 1 0 1 0 1 0 1 0]\n",
      "Predicted label: H\n"
     ]
    }
   ],
   "source": [
    "# Evaluation with noisy data\n",
    "test = np.array([[0, 1, 0,\n",
    "                  0, 1, 1,\n",
    "                  0, 0, 0], # noisy L\n",
    "                 [0, 1, 0,\n",
    "                  1, 0, 1,\n",
    "                  0, 1, 0]]) # noisy H\n",
    "for i in range(len(test)):\n",
    "    z = np.dot(test[i], W) + b\n",
    "    y_pred = step(z)\n",
    "    if y_pred == 0:\n",
    "        label = \"L\"\n",
    "    elif y_pred == 1:\n",
    "        label = \"H\"\n",
    "\n",
    "    # Print the predicted label\n",
    "    print(f\"Input: {test[i]}\")\n",
    "    print(f\"Predicted label: {label}\")"
   ]
  }
 ],
 "metadata": {
  "kernelspec": {
   "display_name": "Python 3 (ipykernel)",
   "language": "python",
   "name": "python3"
  },
  "language_info": {
   "codemirror_mode": {
    "name": "ipython",
    "version": 3
   },
   "file_extension": ".py",
   "mimetype": "text/x-python",
   "name": "python",
   "nbconvert_exporter": "python",
   "pygments_lexer": "ipython3",
   "version": "3.10.9"
  }
 },
 "nbformat": 4,
 "nbformat_minor": 5
}
